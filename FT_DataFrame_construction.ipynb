{
 "cells": [
  {
   "cell_type": "code",
   "execution_count": 10,
   "metadata": {
    "collapsed": true
   },
   "outputs": [],
   "source": [
    "import pandas as pd"
   ]
  },
  {
   "cell_type": "code",
   "execution_count": 11,
   "metadata": {
    "collapsed": true
   },
   "outputs": [],
   "source": [
    "_76ers = pd.read_csv('/Users/willhall/Desktop/2016-17_FTs/2016-17_76ers_FTs.csv')\n",
    "Bucks = pd.read_csv('/Users/willhall/Desktop/2016-17_FTs/2016-17_Bucks_FTs.csv')\n",
    "Bulls = pd.read_csv('/Users/willhall/Desktop/2016-17_FTs/2016-17_Bulls_FTs.csv')\n",
    "Cavs = pd.read_csv('/Users/willhall/Desktop/2016-17_FTs/2016-17_Cavaliers_FTs.csv')\n",
    "Celtics = pd.read_csv('/Users/willhall/Desktop/2016-17_FTs/2016-17_Celtics_FTs.csv')\n",
    "Clippers = pd.read_csv('/Users/willhall/Desktop/2016-17_FTs/2016-17_Clippers_FTs.csv')\n",
    "Grizzlies = pd.read_csv('/Users/willhall/Desktop/2016-17_FTs/2016-17_Grizzlies_FTs.csv')\n",
    "Hawks = pd.read_csv('/Users/willhall/Desktop/2016-17_FTs/2016-17_Hawks_FTs.csv')\n",
    "Heat = pd.read_csv('/Users/willhall/Desktop/2016-17_FTs/2016-17_Heat_FTs.csv')\n",
    "Hornets = pd.read_csv('/Users/willhall/Desktop/2016-17_FTs/2016-17_Hornets_FTs.csv')\n",
    "Jazz = pd.read_csv('/Users/willhall/Desktop/2016-17_FTs/2016-17_Jazz_FTs.csv')\n",
    "Kings = pd.read_csv('/Users/willhall/Desktop/2016-17_FTs/2016-17_Kings_FTs.csv')\n",
    "Knicks = pd.read_csv('/Users/willhall/Desktop/2016-17_FTs/2016-17_Knicks_FTs.csv')\n",
    "Lakers = pd.read_csv('/Users/willhall/Desktop/2016-17_FTs/2016-17_Lakers_FTs.csv')\n",
    "Magic = pd.read_csv('/Users/willhall/Desktop/2016-17_FTs/2016-17_Magic_FTs.csv')\n",
    "Mavericks = pd.read_csv('/Users/willhall/Desktop/2016-17_FTs/2016-17_Mavericks_FTs.csv')\n",
    "Nets = pd.read_csv('/Users/willhall/Desktop/2016-17_FTs/2016-17_Nets_FTs.csv')\n",
    "Nuggets = pd.read_csv('/Users/willhall/Desktop/2016-17_FTs/2016-17_Nuggets_FTs.csv')\n",
    "Pacers = pd.read_csv('/Users/willhall/Desktop/2016-17_FTs/2016-17_Pacers_FTs.csv')\n",
    "Pelicans = pd.read_csv('/Users/willhall/Desktop/2016-17_FTs/2016-17_Pelicans_FTs.csv')\n",
    "Pistons = pd.read_csv('/Users/willhall/Desktop/2016-17_FTs/2016-17_Pistons_FTs.csv')\n",
    "Raptors = pd.read_csv('/Users/willhall/Desktop/2016-17_FTs/2016-17_Raptors_FTs.csv')\n",
    "Rockets = pd.read_csv('/Users/willhall/Desktop/2016-17_FTs/2016-17_Rockets_FTs.csv')\n",
    "Spurs = pd.read_csv('/Users/willhall/Desktop/2016-17_FTs/2016-17_Spurs_FTs.csv')\n",
    "Suns = pd.read_csv('/Users/willhall/Desktop/2016-17_FTs/2016-17_Suns_FTs.csv')\n",
    "Thunder = pd.read_csv('/Users/willhall/Desktop/2016-17_FTs/2016-17_Thunder_FTs.csv')\n",
    "Timberwolves = pd.read_csv('/Users/willhall/Desktop/2016-17_FTs/2016-17_Timberwolves_FTs.csv')\n",
    "TrailBlazers = pd.read_csv('/Users/willhall/Desktop/2016-17_FTs/2016-17_TrailBlazers_FTs.csv')\n",
    "Warriors = pd.read_csv('/Users/willhall/Desktop/2016-17_FTs/2016-17_Warriors_FTs.csv')\n",
    "Wizards = pd.read_csv('/Users/willhall/Desktop/2016-17_FTs/2016-17_Wizards_FTs.csv')\n"
   ]
  },
  {
   "cell_type": "code",
   "execution_count": 12,
   "metadata": {
    "collapsed": true
   },
   "outputs": [],
   "source": [
    "League = [_76ers,Bucks,Bulls,Cavs,Celtics,Clippers,Grizzlies,Hawks,Heat,Hornets,Jazz,Kings,Knicks,Lakers,Magic,Mavericks,Nets,Nuggets,Pacers,Pelicans,Pistons,Raptors,Rockets,Spurs,Suns,Thunder,Timberwolves,TrailBlazers,Warriors,Wizards]"
   ]
  },
  {
   "cell_type": "code",
   "execution_count": 13,
   "metadata": {
    "collapsed": true
   },
   "outputs": [],
   "source": [
    "df = pd.concat(League)"
   ]
  },
  {
   "cell_type": "code",
   "execution_count": 14,
   "metadata": {},
   "outputs": [
    {
     "data": {
      "text/plain": [
       "1106    30\n",
       "783     30\n",
       "431     30\n",
       "463     30\n",
       "495     30\n",
       "527     30\n",
       "559     30\n",
       "591     30\n",
       "623     30\n",
       "655     30\n",
       "687     30\n",
       "719     30\n",
       "751     30\n",
       "815     30\n",
       "1231    30\n",
       "847     30\n",
       "879     30\n",
       "911     30\n",
       "943     30\n",
       "975     30\n",
       "1007    30\n",
       "1039    30\n",
       "1071    30\n",
       "1103    30\n",
       "1135    30\n",
       "1167    30\n",
       "399     30\n",
       "323     30\n",
       "367     30\n",
       "355     30\n",
       "        ..\n",
       "2423     1\n",
       "2455     1\n",
       "2390     1\n",
       "2439     1\n",
       "2389     1\n",
       "2450     1\n",
       "2418     1\n",
       "2386     1\n",
       "2397     1\n",
       "2434     1\n",
       "2414     1\n",
       "2402     1\n",
       "2446     1\n",
       "2422     1\n",
       "2458     1\n",
       "2426     1\n",
       "2394     1\n",
       "2417     1\n",
       "2449     1\n",
       "2416     1\n",
       "2448     1\n",
       "2438     1\n",
       "2459     1\n",
       "2427     1\n",
       "2395     1\n",
       "2387     1\n",
       "2419     1\n",
       "2451     1\n",
       "2406     1\n",
       "2440     1\n",
       "Name: Rk, Length: 2461, dtype: int64"
      ]
     },
     "execution_count": 14,
     "metadata": {},
     "output_type": "execute_result"
    }
   ],
   "source": [
    "df.Rk.value_counts()"
   ]
  },
  {
   "cell_type": "code",
   "execution_count": null,
   "metadata": {},
   "outputs": [],
   "source": []
  },
  {
   "cell_type": "code",
   "execution_count": null,
   "metadata": {},
   "outputs": [],
   "source": []
  },
  {
   "cell_type": "code",
   "execution_count": null,
   "metadata": {},
   "outputs": [],
   "source": []
  },
  {
   "cell_type": "code",
   "execution_count": null,
   "metadata": {},
   "outputs": [],
   "source": []
  },
  {
   "cell_type": "code",
   "execution_count": 17,
   "metadata": {
    "collapsed": true
   },
   "outputs": [],
   "source": [
    "df.rename(columns={'Unnamed: 3':'home_away',},inplace=True)"
   ]
  },
  {
   "cell_type": "code",
   "execution_count": 18,
   "metadata": {
    "collapsed": true
   },
   "outputs": [],
   "source": [
    "df.home_away.fillna(value='Home',inplace=True)"
   ]
  },
  {
   "cell_type": "code",
   "execution_count": 19,
   "metadata": {
    "collapsed": true
   },
   "outputs": [],
   "source": [
    "df.home_away.replace(to_replace='@',value='Away',inplace=True)"
   ]
  },
  {
   "cell_type": "code",
   "execution_count": 20,
   "metadata": {},
   "outputs": [
    {
     "name": "stdout",
     "output_type": "stream",
     "text": [
      "<class 'pandas.core.frame.DataFrame'>\n",
      "Int64Index: 60620 entries, 0 to 2131\n",
      "Data columns (total 10 columns):\n",
      "Rk                60620 non-null int64\n",
      "Date              60620 non-null object\n",
      "Tm                60620 non-null object\n",
      "home_away         60620 non-null object\n",
      "Opp               60620 non-null object\n",
      "Qtr               60620 non-null object\n",
      "Time              60620 non-null object\n",
      "Score (Before)    60620 non-null object\n",
      "Description       60620 non-null object\n",
      "Score (After)     60620 non-null object\n",
      "dtypes: int64(1), object(9)\n",
      "memory usage: 5.1+ MB\n"
     ]
    }
   ],
   "source": [
    "df.info()"
   ]
  },
  {
   "cell_type": "code",
   "execution_count": null,
   "metadata": {
    "collapsed": true
   },
   "outputs": [],
   "source": []
  },
  {
   "cell_type": "code",
   "execution_count": null,
   "metadata": {
    "collapsed": true
   },
   "outputs": [],
   "source": []
  },
  {
   "cell_type": "code",
   "execution_count": null,
   "metadata": {
    "collapsed": true
   },
   "outputs": [],
   "source": []
  }
 ],
 "metadata": {
  "kernelspec": {
   "display_name": "Python 3",
   "language": "python",
   "name": "python3"
  },
  "language_info": {
   "codemirror_mode": {
    "name": "ipython",
    "version": 3
   },
   "file_extension": ".py",
   "mimetype": "text/x-python",
   "name": "python",
   "nbconvert_exporter": "python",
   "pygments_lexer": "ipython3",
   "version": "3.6.3"
  }
 },
 "nbformat": 4,
 "nbformat_minor": 2
}
